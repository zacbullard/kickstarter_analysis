{
 "cells": [
  {
   "cell_type": "code",
   "execution_count": 272,
   "metadata": {
    "collapsed": false
   },
   "outputs": [],
   "source": [
    "import pandas as pd\n",
    "import plotly \n",
    "#plotly.tools.set_credentials_file(username='zacbullard', api_key='7qPjiODUP3EFVetuYO57')\n",
    "plotly.tools.set_credentials_file(username='PhDashing', api_key='TSY0XZKnwfSPgRNogzQR')\n",
    "plotly.tools.set_config_file(world_readable=True,sharing='public') "
   ]
  },
  {
   "cell_type": "code",
   "execution_count": 199,
   "metadata": {
    "collapsed": false
   },
   "outputs": [],
   "source": [
    "import pandas as pd\n",
    "import plotly.plotly as py\n",
    "import numpy as np\n",
    "from numpy import *\n",
    "from plotly.graph_objs import *\n",
    "import plotly.graph_objs as go\n",
    "import plotly.tools as tls\n",
    "import cufflinks as cf"
   ]
  },
  {
   "cell_type": "code",
   "execution_count": 306,
   "metadata": {
    "collapsed": false
   },
   "outputs": [],
   "source": [
    "df = pd.read_csv(\"Kickstarter.csv\")\n",
    "dfs = df[df.state=='successful']\n",
    "dff = df[df.state=='failed']"
   ]
  },
  {
   "cell_type": "code",
   "execution_count": 298,
   "metadata": {
    "collapsed": false
   },
   "outputs": [
    {
     "name": "stdout",
     "output_type": "stream",
     "text": [
      "Reading ./Kickstarter_2017-01-15/Kickstarter017.csv...\n",
      "Reading ./Kickstarter_2017-01-15/Kickstarter027.csv...\n",
      "Reading ./Kickstarter_2017-01-15/Kickstarter021.csv...\n",
      "Reading ./Kickstarter_2017-01-15/Kickstarter003.csv...\n",
      "Reading ./Kickstarter_2017-01-15/Kickstarter006.csv...\n",
      "Reading ./Kickstarter_2017-01-15/Kickstarter029.csv...\n",
      "Reading ./Kickstarter_2017-01-15/Kickstarter041.csv...\n",
      "Reading ./Kickstarter_2017-01-15/Kickstarter037.csv...\n",
      "Reading ./Kickstarter_2017-01-15/Kickstarter013.csv...\n",
      "Reading ./Kickstarter_2017-01-15/Kickstarter.csv...\n",
      "Reading ./Kickstarter_2017-01-15/Kickstarter028.csv...\n",
      "Reading ./Kickstarter_2017-01-15/Kickstarter011.csv...\n",
      "Reading ./Kickstarter_2017-01-15/Kickstarter030.csv...\n",
      "Reading ./Kickstarter_2017-01-15/Kickstarter014.csv...\n",
      "Reading ./Kickstarter_2017-01-15/Kickstarter031.csv...\n",
      "Reading ./Kickstarter_2017-01-15/Kickstarter034.csv...\n",
      "Reading ./Kickstarter_2017-01-15/Kickstarter002.csv...\n",
      "Reading ./Kickstarter_2017-01-15/Kickstarter005.csv...\n",
      "Reading ./Kickstarter_2017-01-15/Kickstarter019.csv...\n",
      "Reading ./Kickstarter_2017-01-15/Kickstarter016.csv...\n",
      "Reading ./Kickstarter_2017-01-15/Kickstarter033.csv...\n",
      "Reading ./Kickstarter_2017-01-15/Kickstarter008.csv...\n",
      "Reading ./Kickstarter_2017-01-15/Kickstarter015.csv...\n",
      "Reading ./Kickstarter_2017-01-15/Kickstarter012.csv...\n",
      "Reading ./Kickstarter_2017-01-15/Kickstarter022.csv...\n",
      "Reading ./Kickstarter_2017-01-15/Kickstarter040.csv...\n",
      "Reading ./Kickstarter_2017-01-15/Kickstarter026.csv...\n",
      "Reading ./Kickstarter_2017-01-15/Kickstarter018.csv...\n",
      "Reading ./Kickstarter_2017-01-15/Kickstarter004.csv...\n",
      "Reading ./Kickstarter_2017-01-15/Kickstarter035.csv...\n",
      "Reading ./Kickstarter_2017-01-15/Kickstarter036.csv...\n",
      "Reading ./Kickstarter_2017-01-15/Kickstarter007.csv...\n",
      "Reading ./Kickstarter_2017-01-15/Kickstarter032.csv...\n",
      "Reading ./Kickstarter_2017-01-15/Kickstarter038.csv...\n",
      "Reading ./Kickstarter_2017-01-15/Kickstarter001.csv...\n",
      "Reading ./Kickstarter_2017-01-15/Kickstarter010.csv...\n",
      "Reading ./Kickstarter_2017-01-15/Kickstarter024.csv...\n",
      "Reading ./Kickstarter_2017-01-15/Kickstarter039.csv...\n",
      "Reading ./Kickstarter_2017-01-15/Kickstarter009.csv...\n",
      "Reading ./Kickstarter_2017-01-15/Kickstarter020.csv...\n",
      "Reading ./Kickstarter_2017-01-15/Kickstarter025.csv...\n",
      "Reading ./Kickstarter_2017-01-15/Kickstarter023.csv...\n"
     ]
    }
   ],
   "source": [
    "import glob as glob\n",
    "#Gather and load the data into our Kickstarter Data Frame.\n",
    "path = './Kickstarter_2017-01-15'\n",
    "all_files = glob.glob(path + '/*.csv')\n",
    "ksdf = pd.DataFrame()\n",
    "frames_list = []\n",
    "for a_file in all_files:\n",
    "    print(\"Reading \" + a_file + \"...\")\n",
    "    df_temp = pd.read_csv(a_file,index_col=None, header=0)\n",
    "    frames_list.append(df_temp)\n",
    "ksdf = pd.concat(frames_list)\n",
    "\n",
    "#A few projects were missing names from being censored and removed by Kickstarter, making them invalid data points\n",
    "df_big = ksdf.loc[ksdf.name.notnull()]\n"
   ]
  },
  {
   "cell_type": "code",
   "execution_count": 313,
   "metadata": {
    "collapsed": true
   },
   "outputs": [],
   "source": [
    "df = ksdf.loc[ksdf.name.notnull()]"
   ]
  },
  {
   "cell_type": "code",
   "execution_count": 70,
   "metadata": {
    "collapsed": false
   },
   "outputs": [
    {
     "name": "stderr",
     "output_type": "stream",
     "text": [
      "/home/z/anaconda3/lib/python3.5/site-packages/numpy/lib/function_base.py:3834: RuntimeWarning:\n",
      "\n",
      "Invalid value encountered in percentile\n",
      "\n"
     ]
    },
    {
     "data": {
      "text/html": [
       "<div>\n",
       "<table border=\"1\" class=\"dataframe\">\n",
       "  <thead>\n",
       "    <tr style=\"text-align: right;\">\n",
       "      <th></th>\n",
       "      <th>id</th>\n",
       "      <th>photo</th>\n",
       "      <th>name</th>\n",
       "      <th>blurb</th>\n",
       "      <th>goal</th>\n",
       "      <th>pledged</th>\n",
       "      <th>state</th>\n",
       "      <th>slug</th>\n",
       "      <th>disable_communication</th>\n",
       "      <th>country</th>\n",
       "      <th>...</th>\n",
       "      <th>location</th>\n",
       "      <th>category</th>\n",
       "      <th>profile</th>\n",
       "      <th>spotlight</th>\n",
       "      <th>urls</th>\n",
       "      <th>source_url</th>\n",
       "      <th>friends</th>\n",
       "      <th>is_starred</th>\n",
       "      <th>is_backing</th>\n",
       "      <th>permissions</th>\n",
       "    </tr>\n",
       "  </thead>\n",
       "  <tbody>\n",
       "    <tr>\n",
       "      <th>0</th>\n",
       "      <td>1238829892</td>\n",
       "      <td>{\"small\":\"https://ksr-ugc.imgix.net/assets/012...</td>\n",
       "      <td>Royal Holloway's Drama Society Presents 'Posh'</td>\n",
       "      <td>Debauchery, laughter, violence and politics. W...</td>\n",
       "      <td>220.0</td>\n",
       "      <td>241.0</td>\n",
       "      <td>successful</td>\n",
       "      <td>royal-holloways-drama-society-presents-posh</td>\n",
       "      <td>False</td>\n",
       "      <td>GB</td>\n",
       "      <td>...</td>\n",
       "      <td>{\"country\":\"GB\",\"urls\":{\"web\":{\"discover\":\"htt...</td>\n",
       "      <td>{\"urls\":{\"web\":{\"discover\":\"http://www.kicksta...</td>\n",
       "      <td>{\"background_image_opacity\":0.8,\"should_show_f...</td>\n",
       "      <td>True</td>\n",
       "      <td>{\"web\":{\"project\":\"https://www.kickstarter.com...</td>\n",
       "      <td>https://www.kickstarter.com/discover/categorie...</td>\n",
       "      <td>NaN</td>\n",
       "      <td>NaN</td>\n",
       "      <td>NaN</td>\n",
       "      <td>NaN</td>\n",
       "    </tr>\n",
       "    <tr>\n",
       "      <th>1</th>\n",
       "      <td>1632473982</td>\n",
       "      <td>{\"small\":\"https://ksr-ugc.imgix.net/assets/011...</td>\n",
       "      <td>Kylie for President</td>\n",
       "      <td>Bring a touring character education play about...</td>\n",
       "      <td>3500.0</td>\n",
       "      <td>3530.0</td>\n",
       "      <td>successful</td>\n",
       "      <td>kylie-for-president</td>\n",
       "      <td>False</td>\n",
       "      <td>US</td>\n",
       "      <td>...</td>\n",
       "      <td>{\"country\":\"US\",\"urls\":{\"web\":{\"discover\":\"htt...</td>\n",
       "      <td>{\"urls\":{\"web\":{\"discover\":\"http://www.kicksta...</td>\n",
       "      <td>{\"background_image_opacity\":0.8,\"should_show_f...</td>\n",
       "      <td>True</td>\n",
       "      <td>{\"web\":{\"project\":\"https://www.kickstarter.com...</td>\n",
       "      <td>https://www.kickstarter.com/discover/categorie...</td>\n",
       "      <td>NaN</td>\n",
       "      <td>NaN</td>\n",
       "      <td>NaN</td>\n",
       "      <td>NaN</td>\n",
       "    </tr>\n",
       "    <tr>\n",
       "      <th>2</th>\n",
       "      <td>202163294</td>\n",
       "      <td>{\"small\":\"https://ksr-ugc.imgix.net/assets/011...</td>\n",
       "      <td>The Bombing of the Grand Hotel. A compelling n...</td>\n",
       "      <td>1984. An IRA bomb explodes at the Grand Hotel....</td>\n",
       "      <td>3000.0</td>\n",
       "      <td>3046.0</td>\n",
       "      <td>successful</td>\n",
       "      <td>the-bombing-of-the-grand-hotel-a-compelling-ne...</td>\n",
       "      <td>False</td>\n",
       "      <td>GB</td>\n",
       "      <td>...</td>\n",
       "      <td>{\"country\":\"GB\",\"urls\":{\"web\":{\"discover\":\"htt...</td>\n",
       "      <td>{\"urls\":{\"web\":{\"discover\":\"http://www.kicksta...</td>\n",
       "      <td>{\"background_image_opacity\":0.8,\"should_show_f...</td>\n",
       "      <td>True</td>\n",
       "      <td>{\"web\":{\"project\":\"https://www.kickstarter.com...</td>\n",
       "      <td>https://www.kickstarter.com/discover/categorie...</td>\n",
       "      <td>NaN</td>\n",
       "      <td>NaN</td>\n",
       "      <td>NaN</td>\n",
       "      <td>NaN</td>\n",
       "    </tr>\n",
       "    <tr>\n",
       "      <th>3</th>\n",
       "      <td>1421696844</td>\n",
       "      <td>{\"small\":\"https://ksr-ugc.imgix.net/assets/011...</td>\n",
       "      <td>CHILD Z</td>\n",
       "      <td>Zoe is a teenage girl growing up in a deeply d...</td>\n",
       "      <td>4000.0</td>\n",
       "      <td>4545.0</td>\n",
       "      <td>successful</td>\n",
       "      <td>child-z</td>\n",
       "      <td>False</td>\n",
       "      <td>GB</td>\n",
       "      <td>...</td>\n",
       "      <td>{\"country\":\"GB\",\"urls\":{\"web\":{\"discover\":\"htt...</td>\n",
       "      <td>{\"urls\":{\"web\":{\"discover\":\"http://www.kicksta...</td>\n",
       "      <td>{\"background_image_opacity\":0.8,\"should_show_f...</td>\n",
       "      <td>True</td>\n",
       "      <td>{\"web\":{\"project\":\"https://www.kickstarter.com...</td>\n",
       "      <td>https://www.kickstarter.com/discover/categorie...</td>\n",
       "      <td>NaN</td>\n",
       "      <td>NaN</td>\n",
       "      <td>NaN</td>\n",
       "      <td>NaN</td>\n",
       "    </tr>\n",
       "    <tr>\n",
       "      <th>4</th>\n",
       "      <td>467924168</td>\n",
       "      <td>{\"small\":\"https://ksr-ugc.imgix.net/assets/012...</td>\n",
       "      <td>FAUST.hier und jetzt</td>\n",
       "      <td>Theaterprojekt 12. Kl. Waldorfschule Essen. 2 ...</td>\n",
       "      <td>4500.0</td>\n",
       "      <td>4500.0</td>\n",
       "      <td>successful</td>\n",
       "      <td>fausthier-und-jetzt</td>\n",
       "      <td>False</td>\n",
       "      <td>DE</td>\n",
       "      <td>...</td>\n",
       "      <td>{\"country\":\"DE\",\"urls\":{\"web\":{\"discover\":\"htt...</td>\n",
       "      <td>{\"urls\":{\"web\":{\"discover\":\"http://www.kicksta...</td>\n",
       "      <td>{\"background_image_opacity\":0.8,\"should_show_f...</td>\n",
       "      <td>True</td>\n",
       "      <td>{\"web\":{\"project\":\"https://www.kickstarter.com...</td>\n",
       "      <td>https://www.kickstarter.com/discover/categorie...</td>\n",
       "      <td>NaN</td>\n",
       "      <td>NaN</td>\n",
       "      <td>NaN</td>\n",
       "      <td>NaN</td>\n",
       "    </tr>\n",
       "  </tbody>\n",
       "</table>\n",
       "<p>5 rows × 32 columns</p>\n",
       "</div>"
      ],
      "text/plain": [
       "           id                                              photo  \\\n",
       "0  1238829892  {\"small\":\"https://ksr-ugc.imgix.net/assets/012...   \n",
       "1  1632473982  {\"small\":\"https://ksr-ugc.imgix.net/assets/011...   \n",
       "2   202163294  {\"small\":\"https://ksr-ugc.imgix.net/assets/011...   \n",
       "3  1421696844  {\"small\":\"https://ksr-ugc.imgix.net/assets/011...   \n",
       "4   467924168  {\"small\":\"https://ksr-ugc.imgix.net/assets/012...   \n",
       "\n",
       "                                                name  \\\n",
       "0     Royal Holloway's Drama Society Presents 'Posh'   \n",
       "1                                Kylie for President   \n",
       "2  The Bombing of the Grand Hotel. A compelling n...   \n",
       "3                                            CHILD Z   \n",
       "4                               FAUST.hier und jetzt   \n",
       "\n",
       "                                               blurb    goal  pledged  \\\n",
       "0  Debauchery, laughter, violence and politics. W...   220.0    241.0   \n",
       "1  Bring a touring character education play about...  3500.0   3530.0   \n",
       "2  1984. An IRA bomb explodes at the Grand Hotel....  3000.0   3046.0   \n",
       "3  Zoe is a teenage girl growing up in a deeply d...  4000.0   4545.0   \n",
       "4  Theaterprojekt 12. Kl. Waldorfschule Essen. 2 ...  4500.0   4500.0   \n",
       "\n",
       "        state                                               slug  \\\n",
       "0  successful        royal-holloways-drama-society-presents-posh   \n",
       "1  successful                                kylie-for-president   \n",
       "2  successful  the-bombing-of-the-grand-hotel-a-compelling-ne...   \n",
       "3  successful                                            child-z   \n",
       "4  successful                                fausthier-und-jetzt   \n",
       "\n",
       "  disable_communication country     ...       \\\n",
       "0                 False      GB     ...        \n",
       "1                 False      US     ...        \n",
       "2                 False      GB     ...        \n",
       "3                 False      GB     ...        \n",
       "4                 False      DE     ...        \n",
       "\n",
       "                                            location  \\\n",
       "0  {\"country\":\"GB\",\"urls\":{\"web\":{\"discover\":\"htt...   \n",
       "1  {\"country\":\"US\",\"urls\":{\"web\":{\"discover\":\"htt...   \n",
       "2  {\"country\":\"GB\",\"urls\":{\"web\":{\"discover\":\"htt...   \n",
       "3  {\"country\":\"GB\",\"urls\":{\"web\":{\"discover\":\"htt...   \n",
       "4  {\"country\":\"DE\",\"urls\":{\"web\":{\"discover\":\"htt...   \n",
       "\n",
       "                                            category  \\\n",
       "0  {\"urls\":{\"web\":{\"discover\":\"http://www.kicksta...   \n",
       "1  {\"urls\":{\"web\":{\"discover\":\"http://www.kicksta...   \n",
       "2  {\"urls\":{\"web\":{\"discover\":\"http://www.kicksta...   \n",
       "3  {\"urls\":{\"web\":{\"discover\":\"http://www.kicksta...   \n",
       "4  {\"urls\":{\"web\":{\"discover\":\"http://www.kicksta...   \n",
       "\n",
       "                                             profile  spotlight  \\\n",
       "0  {\"background_image_opacity\":0.8,\"should_show_f...       True   \n",
       "1  {\"background_image_opacity\":0.8,\"should_show_f...       True   \n",
       "2  {\"background_image_opacity\":0.8,\"should_show_f...       True   \n",
       "3  {\"background_image_opacity\":0.8,\"should_show_f...       True   \n",
       "4  {\"background_image_opacity\":0.8,\"should_show_f...       True   \n",
       "\n",
       "                                                urls  \\\n",
       "0  {\"web\":{\"project\":\"https://www.kickstarter.com...   \n",
       "1  {\"web\":{\"project\":\"https://www.kickstarter.com...   \n",
       "2  {\"web\":{\"project\":\"https://www.kickstarter.com...   \n",
       "3  {\"web\":{\"project\":\"https://www.kickstarter.com...   \n",
       "4  {\"web\":{\"project\":\"https://www.kickstarter.com...   \n",
       "\n",
       "                                          source_url  friends is_starred  \\\n",
       "0  https://www.kickstarter.com/discover/categorie...      NaN        NaN   \n",
       "1  https://www.kickstarter.com/discover/categorie...      NaN        NaN   \n",
       "2  https://www.kickstarter.com/discover/categorie...      NaN        NaN   \n",
       "3  https://www.kickstarter.com/discover/categorie...      NaN        NaN   \n",
       "4  https://www.kickstarter.com/discover/categorie...      NaN        NaN   \n",
       "\n",
       "   is_backing  permissions  \n",
       "0         NaN          NaN  \n",
       "1         NaN          NaN  \n",
       "2         NaN          NaN  \n",
       "3         NaN          NaN  \n",
       "4         NaN          NaN  \n",
       "\n",
       "[5 rows x 32 columns]"
      ]
     },
     "execution_count": 70,
     "metadata": {},
     "output_type": "execute_result"
    }
   ],
   "source": [
    "df.describe()\n",
    "df.head()"
   ]
  },
  {
   "cell_type": "code",
   "execution_count": 66,
   "metadata": {
    "collapsed": false,
    "scrolled": true
   },
   "outputs": [
    {
     "data": {
      "text/html": [
       "<iframe id=\"igraph\" scrolling=\"no\" style=\"border:none;\" seamless=\"seamless\" src=\"https://plot.ly/~zacbullard/5.embed?share_key=I6CJ1oGbHXjQ53iQiHDDZu\" height=\"525px\" width=\"100%\"></iframe>"
      ],
      "text/plain": [
       "<plotly.tools.PlotlyDisplay object>"
      ]
     },
     "execution_count": 66,
     "metadata": {},
     "output_type": "execute_result"
    }
   ],
   "source": [
    "dfplt = df[['backers_count','usd_pledged']]\n",
    "#dfplt = dfplt.sort_values(by='goal')\n",
    "\n",
    "#py.iplot(dfplt, filename='cufflinks/cf-simple-line')\n",
    "figure = dfplt.iplot(kind='line', x='backers_count', y='pledged',\n",
    "         yTitle='y Title', title='My Chart', asFigure=True)\n",
    "figure.update(dict(data=dict(line=dict(color='00CED1', width=6))))\n",
    "#figure.update(dict(line=dict(color='00CED1', width=6)))\n",
    "#figure.to_string()\n",
    "# line = dict(color = ('rgb(205, 12, 24)'),width = 4)\n",
    "py.iplot(figure, filename='my_chart')"
   ]
  },
  {
   "cell_type": "code",
   "execution_count": 307,
   "metadata": {
    "collapsed": false,
    "scrolled": true
   },
   "outputs": [
    {
     "data": {
      "text/html": [
       "<iframe id=\"igraph\" scrolling=\"no\" style=\"border:none;\" seamless=\"seamless\" src=\"https://plot.ly/~PhDashing/4.embed\" height=\"525px\" width=\"100%\"></iframe>"
      ],
      "text/plain": [
       "<plotly.tools.PlotlyDisplay object>"
      ]
     },
     "execution_count": 307,
     "metadata": {},
     "output_type": "execute_result"
    }
   ],
   "source": [
    "from operator import itemgetter\n",
    "\n",
    "dfsc = pd.concat([dfs.category.str.partition('\"slug\":\"')[2].str[:-2],dfs.usd_pledged],axis = 1)\n",
    "#dfs.category[0][dfs.category[0].index('\"slug\":\"') + len('\"slug\":\"'):]\n",
    "#s1[s1.index(s2) + len(s2):]\n",
    "#s.partition(delim)\n",
    "#dfs.category[0].partition('\"slug\":\"')[2]\n",
    "dfsc.rename(columns={2: 'category'},inplace=True)\n",
    "\n",
    "#df_combined = pd.DataFrame(np.nan,index=[0,1],columns=['A'])\n",
    "#sorted_group = dfsc.groupby('category')[['pledged']].transform(sum).sort('pledged')\n",
    "\n",
    "df_list = []\n",
    "for category, group in dfsc.groupby('category'):\n",
    "    \n",
    "    df_list.append((group.usd_pledged.mean(),group.usd_pledged.rename(category)))\n",
    "    #d.merge(df_combined,pd.DataFrame(group), left_index = True, right_index = True)\n",
    "#sorted(df_list, key=itemgetter(0))\n",
    "df_list.sort(key=lambda x: x[0],reverse = True)\n",
    "   \n",
    "    \n",
    "# generate an array of rainbow colors by fixing the saturation and lightness of the HSL representation of colour \n",
    "# and marching around the hue. \n",
    "# Plotly accepts any CSS color format, see e.g. http://www.w3schools.com/cssref/css_colors_legal.asp.\n",
    "c = ['hsl('+str(h)+',50%'+',50%)' for h in linspace(0, 360, len(df_list))]\n",
    "\n",
    "data = [{\n",
    "    'y':df_list[i][1],\n",
    "    'name':df_list[i][1].name ,\n",
    "    'type':'box',\n",
    "    'marker':{'color': c[i]}\n",
    "    } for i in range(len(df_list))]\n",
    "\n",
    "\n",
    "layout = go.Layout(\n",
    "    title='Successful Funds Raised Per Kickstarter Category',\n",
    "    xaxis=dict(\n",
    "        tickangle=60,\n",
    "        autorange=True\n",
    "    ),\n",
    "    yaxis=dict(\n",
    "        type='log',\n",
    "        title='USD Raised (log scale)',\n",
    "        autorange=True\n",
    "    ))\n",
    "\n",
    "fig = go.Figure(data=data, layout=layout)\n",
    "py.iplot(fig,filename='funding_boxcharts')    \n",
    "    "
   ]
  },
  {
   "cell_type": "code",
   "execution_count": 301,
   "metadata": {
    "collapsed": false
   },
   "outputs": [
    {
     "name": "stderr",
     "output_type": "stream",
     "text": [
      "/home/z/anaconda3/lib/python3.5/site-packages/ipykernel/__main__.py:2: SettingWithCopyWarning:\n",
      "\n",
      "\n",
      "A value is trying to be set on a copy of a slice from a DataFrame.\n",
      "Try using .loc[row_indexer,col_indexer] = value instead\n",
      "\n",
      "See the caveats in the documentation: http://pandas.pydata.org/pandas-docs/stable/indexing.html#indexing-view-versus-copy\n",
      "\n",
      "/home/z/anaconda3/lib/python3.5/site-packages/plotly/plotly/plotly.py:215: UserWarning:\n",
      "\n",
      "Woah there! Look at all those points! Due to browser limitations, the Plotly SVG drawing functions have a hard time graphing more than 500k data points for line charts, or 40k points for other types of charts. Here are some suggestions:\n",
      "(1) Use the `plotly.graph_objs.Scattergl` trace object to generate a WebGl graph.\n",
      "(2) Trying using the image API to return an image instead of a graph URL\n",
      "(3) Use matplotlib\n",
      "(4) See if you can create your visualization with fewer data points\n",
      "\n",
      "If the visualization you're using aggregates points (e.g., box plot, histogram, etc.) you can disregard this warning.\n",
      "\n"
     ]
    },
    {
     "name": "stdout",
     "output_type": "stream",
     "text": [
      "SUCCESS RATE 0.47448998998364417\n",
      "High five! You successfuly sent some data to your account on plotly. View your plot in your browser at https://plot.ly/~PhDashing/0 or inside your plot.ly account where it is named 'success_histogram'\n"
     ]
    },
    {
     "data": {
      "text/html": [
       "<iframe id=\"igraph\" scrolling=\"no\" style=\"border:none;\" seamless=\"seamless\" src=\"https://plot.ly/~PhDashing/0.embed\" height=\"525px\" width=\"100%\"></iframe>"
      ],
      "text/plain": [
       "<plotly.tools.PlotlyDisplay object>"
      ]
     },
     "execution_count": 301,
     "metadata": {},
     "output_type": "execute_result"
    }
   ],
   "source": [
    "dfh = df\n",
    "dfh['duration'] = (dfh.deadline - dfh.launched_at)/60/60/24\n",
    "\n",
    "dfs = dfh[dfh.state=='successful']\n",
    "dff = dfh[dfh.state=='failed']\n",
    "\n",
    "print(\"SUCCESS RATE\",float(len(dfs))/(len(dfs)+len(dff)))\n",
    "print(\"Out of total # of projects:\",df.shape)\n",
    "\n",
    "\n",
    "#dfm = pd.concat([dfs.duration,dff.duration],axis=1)\n",
    "#dfs.duration.iplot(kind='histogram',filename = \"success_histogram\")\n",
    "\n",
    "bins = list(range(0,104,4))\n",
    "bins_mid = []\n",
    "for i in range(len(bins)-1):\n",
    "    bins_mid.append(int((bins[i]+bins[i+1])/2))\n",
    "\n",
    "out = pd.cut(dfs['duration'],bins)\n",
    "filled_bins = pd.value_counts(out)\n",
    "filled_bins = filled_bins.reindex(out.cat.categories).tolist()\n",
    "#bin_labels = \n",
    "#print (len(filled_bins),len(bins_mid))\n",
    "#print(filled_bins)\n",
    "#print(filled_bins,bins_mid)\n",
    "\n",
    "\n",
    "data = [{\n",
    "    'x':dfs.duration,\n",
    "    #'y':bins_mid,\n",
    "    'opacity':0.75,\n",
    "    'name':'successful' ,\n",
    "    'type':'histogram',\n",
    "    },\n",
    "    {\n",
    "    'x':dff.duration,\n",
    "    #'y':bins_mid,\n",
    "    'opacity':0.75,\n",
    "    'name':'failed' ,\n",
    "    'type':'histogram',\n",
    "    } \n",
    "       ]\n",
    "    \n",
    "layout = go.Layout(\n",
    "    title='Kickstarter Duration and Sucess',\n",
    "    barmode='overlay',\n",
    "    xaxis=dict(\n",
    "        title='Campaign Duration (Days)',\n",
    "        autorange=True\n",
    "    ),\n",
    "    yaxis=dict(\n",
    "        title='Count',\n",
    "        autorange=True\n",
    "    ))\n",
    "    \n",
    "fig = go.Figure(data=data, layout=layout)\n",
    "    \n",
    "py.iplot(fig,filename='success_histogram') "
   ]
  },
  {
   "cell_type": "code",
   "execution_count": 304,
   "metadata": {
    "collapsed": false
   },
   "outputs": [
    {
     "name": "stderr",
     "output_type": "stream",
     "text": [
      "/home/z/anaconda3/lib/python3.5/site-packages/plotly/plotly/plotly.py:215: UserWarning:\n",
      "\n",
      "Woah there! Look at all those points! Due to browser limitations, the Plotly SVG drawing functions have a hard time graphing more than 500k data points for line charts, or 40k points for other types of charts. Here are some suggestions:\n",
      "(1) Use the `plotly.graph_objs.Scattergl` trace object to generate a WebGl graph.\n",
      "(2) Trying using the image API to return an image instead of a graph URL\n",
      "(3) Use matplotlib\n",
      "(4) See if you can create your visualization with fewer data points\n",
      "\n",
      "If the visualization you're using aggregates points (e.g., box plot, histogram, etc.) you can disregard this warning.\n",
      "\n"
     ]
    },
    {
     "name": "stdout",
     "output_type": "stream",
     "text": [
      "The draw time for this plot will be slow for all clients.\n"
     ]
    },
    {
     "name": "stderr",
     "output_type": "stream",
     "text": [
      "/home/z/anaconda3/lib/python3.5/site-packages/plotly/api/v1/clientresp.py:40: UserWarning:\n",
      "\n",
      "Estimated Draw Time Too Long\n",
      "\n"
     ]
    },
    {
     "data": {
      "text/html": [
       "<iframe id=\"igraph\" scrolling=\"no\" style=\"border:none;\" seamless=\"seamless\" src=\"https://plot.ly/~PhDashing/2.embed\" height=\"525px\" width=\"100%\"></iframe>"
      ],
      "text/plain": [
       "<plotly.tools.PlotlyDisplay object>"
      ]
     },
     "execution_count": 304,
     "metadata": {},
     "output_type": "execute_result"
    }
   ],
   "source": [
    "fig = {\n",
    "    'data': [\n",
    "          {\n",
    "            'y': dfs.usd_pledged, \n",
    "            'x': dfs.backers_count, \n",
    "            'text': dfs.name, \n",
    "            'mode': 'markers', \n",
    "            'name': '2007'}\n",
    "    ],\n",
    "    'layout': {\n",
    "        'title':'Sucessful Kickstarters: Backers vs. Funding',\n",
    "        'xaxis': {'title': 'Backer Count'},\n",
    "        'yaxis': {'title': \"USD Raised\"}\n",
    "    }\n",
    "}\n",
    "\n",
    "py.iplot(fig,filename='backers_scatter') "
   ]
  },
  {
   "cell_type": "code",
   "execution_count": 270,
   "metadata": {
    "collapsed": false
   },
   "outputs": [
    {
     "ename": "PlotlyRequestError",
     "evalue": "Hey there! You've hit one of our API request limits. \n\nTo get unlimited API calls(10,000/day), please upgrade to a paid plan. \n\nUPGRADE HERE: https://goo.gl/i7glmM \n\nThanks for using Plotly! Happy Plotting!",
     "output_type": "error",
     "traceback": [
      "\u001b[0;31m---------------------------------------------------------------------------\u001b[0m",
      "\u001b[0;31mPlotlyRequestError\u001b[0m                        Traceback (most recent call last)",
      "\u001b[0;32m<ipython-input-270-5014194b9b31>\u001b[0m in \u001b[0;36m<module>\u001b[0;34m()\u001b[0m\n\u001b[1;32m     17\u001b[0m \u001b[0mfig\u001b[0m \u001b[0;34m=\u001b[0m \u001b[0mgo\u001b[0m\u001b[0;34m.\u001b[0m\u001b[0mFigure\u001b[0m\u001b[0;34m(\u001b[0m\u001b[0mdata\u001b[0m\u001b[0;34m=\u001b[0m\u001b[0mdata\u001b[0m\u001b[0;34m,\u001b[0m \u001b[0mlayout\u001b[0m\u001b[0;34m=\u001b[0m\u001b[0mlayout\u001b[0m\u001b[0;34m)\u001b[0m\u001b[0;34m\u001b[0m\u001b[0m\n\u001b[1;32m     18\u001b[0m \u001b[0;34m\u001b[0m\u001b[0m\n\u001b[0;32m---> 19\u001b[0;31m \u001b[0mpy\u001b[0m\u001b[0;34m.\u001b[0m\u001b[0miplot\u001b[0m\u001b[0;34m(\u001b[0m\u001b[0mfig\u001b[0m\u001b[0;34m,\u001b[0m\u001b[0mfilename\u001b[0m\u001b[0;34m=\u001b[0m\u001b[0;34m'success_sliders'\u001b[0m\u001b[0;34m)\u001b[0m\u001b[0;34m\u001b[0m\u001b[0m\n\u001b[0m",
      "\u001b[0;32m/home/z/anaconda3/lib/python3.5/site-packages/plotly/plotly/plotly.py\u001b[0m in \u001b[0;36miplot\u001b[0;34m(figure_or_data, **plot_options)\u001b[0m\n\u001b[1;32m    129\u001b[0m     \u001b[0;32mif\u001b[0m \u001b[0;34m'auto_open'\u001b[0m \u001b[0;32mnot\u001b[0m \u001b[0;32min\u001b[0m \u001b[0mplot_options\u001b[0m\u001b[0;34m:\u001b[0m\u001b[0;34m\u001b[0m\u001b[0m\n\u001b[1;32m    130\u001b[0m         \u001b[0mplot_options\u001b[0m\u001b[0;34m[\u001b[0m\u001b[0;34m'auto_open'\u001b[0m\u001b[0;34m]\u001b[0m \u001b[0;34m=\u001b[0m \u001b[0;32mFalse\u001b[0m\u001b[0;34m\u001b[0m\u001b[0m\n\u001b[0;32m--> 131\u001b[0;31m     \u001b[0murl\u001b[0m \u001b[0;34m=\u001b[0m \u001b[0mplot\u001b[0m\u001b[0;34m(\u001b[0m\u001b[0mfigure_or_data\u001b[0m\u001b[0;34m,\u001b[0m \u001b[0;34m**\u001b[0m\u001b[0mplot_options\u001b[0m\u001b[0;34m)\u001b[0m\u001b[0;34m\u001b[0m\u001b[0m\n\u001b[0m\u001b[1;32m    132\u001b[0m \u001b[0;34m\u001b[0m\u001b[0m\n\u001b[1;32m    133\u001b[0m     \u001b[0;32mif\u001b[0m \u001b[0misinstance\u001b[0m\u001b[0;34m(\u001b[0m\u001b[0mfigure_or_data\u001b[0m\u001b[0;34m,\u001b[0m \u001b[0mdict\u001b[0m\u001b[0;34m)\u001b[0m\u001b[0;34m:\u001b[0m\u001b[0;34m\u001b[0m\u001b[0m\n",
      "\u001b[0;32m/home/z/anaconda3/lib/python3.5/site-packages/plotly/plotly/plotly.py\u001b[0m in \u001b[0;36mplot\u001b[0;34m(figure_or_data, validate, **plot_options)\u001b[0m\n\u001b[1;32m    222\u001b[0m     \u001b[0mdata\u001b[0m \u001b[0;34m=\u001b[0m \u001b[0mfig\u001b[0m\u001b[0;34m.\u001b[0m\u001b[0mget\u001b[0m\u001b[0;34m(\u001b[0m\u001b[0;34m'data'\u001b[0m\u001b[0;34m,\u001b[0m \u001b[0;34m[\u001b[0m\u001b[0;34m]\u001b[0m\u001b[0;34m)\u001b[0m\u001b[0;34m\u001b[0m\u001b[0m\n\u001b[1;32m    223\u001b[0m     \u001b[0mplot_options\u001b[0m\u001b[0;34m[\u001b[0m\u001b[0;34m'layout'\u001b[0m\u001b[0;34m]\u001b[0m \u001b[0;34m=\u001b[0m \u001b[0mfig\u001b[0m\u001b[0;34m.\u001b[0m\u001b[0mget\u001b[0m\u001b[0;34m(\u001b[0m\u001b[0;34m'layout'\u001b[0m\u001b[0;34m,\u001b[0m \u001b[0;34m{\u001b[0m\u001b[0;34m}\u001b[0m\u001b[0;34m)\u001b[0m\u001b[0;34m\u001b[0m\u001b[0m\n\u001b[0;32m--> 224\u001b[0;31m     \u001b[0mresponse\u001b[0m \u001b[0;34m=\u001b[0m \u001b[0mv1\u001b[0m\u001b[0;34m.\u001b[0m\u001b[0mclientresp\u001b[0m\u001b[0;34m(\u001b[0m\u001b[0mdata\u001b[0m\u001b[0;34m,\u001b[0m \u001b[0;34m**\u001b[0m\u001b[0mplot_options\u001b[0m\u001b[0;34m)\u001b[0m\u001b[0;34m\u001b[0m\u001b[0m\n\u001b[0m\u001b[1;32m    225\u001b[0m \u001b[0;34m\u001b[0m\u001b[0m\n\u001b[1;32m    226\u001b[0m     \u001b[0;31m# Check if the url needs a secret key\u001b[0m\u001b[0;34m\u001b[0m\u001b[0;34m\u001b[0m\u001b[0m\n",
      "\u001b[0;32m/home/z/anaconda3/lib/python3.5/site-packages/plotly/api/v1/clientresp.py\u001b[0m in \u001b[0;36mclientresp\u001b[0;34m(data, **kwargs)\u001b[0m\n\u001b[1;32m     33\u001b[0m \u001b[0;34m\u001b[0m\u001b[0m\n\u001b[1;32m     34\u001b[0m     \u001b[0murl\u001b[0m \u001b[0;34m=\u001b[0m \u001b[0;34m'{plotly_domain}/clientresp'\u001b[0m\u001b[0;34m.\u001b[0m\u001b[0mformat\u001b[0m\u001b[0;34m(\u001b[0m\u001b[0;34m**\u001b[0m\u001b[0mcfg\u001b[0m\u001b[0;34m)\u001b[0m\u001b[0;34m\u001b[0m\u001b[0m\n\u001b[0;32m---> 35\u001b[0;31m     \u001b[0mresponse\u001b[0m \u001b[0;34m=\u001b[0m \u001b[0mrequest\u001b[0m\u001b[0;34m(\u001b[0m\u001b[0;34m'post'\u001b[0m\u001b[0;34m,\u001b[0m \u001b[0murl\u001b[0m\u001b[0;34m,\u001b[0m \u001b[0mdata\u001b[0m\u001b[0;34m=\u001b[0m\u001b[0mpayload\u001b[0m\u001b[0;34m)\u001b[0m\u001b[0;34m\u001b[0m\u001b[0m\n\u001b[0m\u001b[1;32m     36\u001b[0m \u001b[0;34m\u001b[0m\u001b[0m\n\u001b[1;32m     37\u001b[0m     \u001b[0;31m# Old functionality, just keeping it around.\u001b[0m\u001b[0;34m\u001b[0m\u001b[0;34m\u001b[0m\u001b[0m\n",
      "\u001b[0;32m/home/z/anaconda3/lib/python3.5/site-packages/plotly/api/v1/utils.py\u001b[0m in \u001b[0;36mrequest\u001b[0;34m(method, url, **kwargs)\u001b[0m\n\u001b[1;32m     84\u001b[0m         \u001b[0mcontent\u001b[0m \u001b[0;34m=\u001b[0m \u001b[0mresponse\u001b[0m\u001b[0;34m.\u001b[0m\u001b[0mcontent\u001b[0m \u001b[0;32mif\u001b[0m \u001b[0mresponse\u001b[0m \u001b[0;32melse\u001b[0m \u001b[0;34m'No content'\u001b[0m\u001b[0;34m\u001b[0m\u001b[0m\n\u001b[1;32m     85\u001b[0m         \u001b[0;32mraise\u001b[0m \u001b[0mexceptions\u001b[0m\u001b[0;34m.\u001b[0m\u001b[0mPlotlyRequestError\u001b[0m\u001b[0;34m(\u001b[0m\u001b[0mmessage\u001b[0m\u001b[0;34m,\u001b[0m \u001b[0mstatus_code\u001b[0m\u001b[0;34m,\u001b[0m \u001b[0mcontent\u001b[0m\u001b[0;34m)\u001b[0m\u001b[0;34m\u001b[0m\u001b[0m\n\u001b[0;32m---> 86\u001b[0;31m     \u001b[0mvalidate_response\u001b[0m\u001b[0;34m(\u001b[0m\u001b[0mresponse\u001b[0m\u001b[0;34m)\u001b[0m\u001b[0;34m\u001b[0m\u001b[0m\n\u001b[0m\u001b[1;32m     87\u001b[0m     \u001b[0;32mreturn\u001b[0m \u001b[0mresponse\u001b[0m\u001b[0;34m\u001b[0m\u001b[0m\n",
      "\u001b[0;32m/home/z/anaconda3/lib/python3.5/site-packages/plotly/api/v1/utils.py\u001b[0m in \u001b[0;36mvalidate_response\u001b[0;34m(response)\u001b[0m\n\u001b[1;32m     36\u001b[0m         \u001b[0mmessage\u001b[0m \u001b[0;34m=\u001b[0m \u001b[0mcontent\u001b[0m \u001b[0;32mif\u001b[0m \u001b[0mcontent\u001b[0m \u001b[0;32melse\u001b[0m \u001b[0;34m'No Content'\u001b[0m\u001b[0;34m\u001b[0m\u001b[0m\n\u001b[1;32m     37\u001b[0m \u001b[0;34m\u001b[0m\u001b[0m\n\u001b[0;32m---> 38\u001b[0;31m     \u001b[0;32mraise\u001b[0m \u001b[0mexceptions\u001b[0m\u001b[0;34m.\u001b[0m\u001b[0mPlotlyRequestError\u001b[0m\u001b[0;34m(\u001b[0m\u001b[0mmessage\u001b[0m\u001b[0;34m,\u001b[0m \u001b[0mstatus_code\u001b[0m\u001b[0;34m,\u001b[0m \u001b[0mcontent\u001b[0m\u001b[0;34m)\u001b[0m\u001b[0;34m\u001b[0m\u001b[0m\n\u001b[0m\u001b[1;32m     39\u001b[0m \u001b[0;34m\u001b[0m\u001b[0m\n\u001b[1;32m     40\u001b[0m \u001b[0;34m\u001b[0m\u001b[0m\n",
      "\u001b[0;31mPlotlyRequestError\u001b[0m: Hey there! You've hit one of our API request limits. \n\nTo get unlimited API calls(10,000/day), please upgrade to a paid plan. \n\nUPGRADE HERE: https://goo.gl/i7glmM \n\nThanks for using Plotly! Happy Plotting!"
     ]
    }
   ],
   "source": [
    "data = [{\n",
    "    'x':[1, 2, 3],\n",
    "    'y':[3, 1, 5],\n",
    "    'name':'first trace' ,\n",
    "    'type':'bar',\n",
    "    } ]\n",
    "    \n",
    "layout = go.Layout(\n",
    "    title='Kickstarter Sucess Rate',\n",
    "    xaxis=dict(\n",
    "    ),\n",
    "    yaxis=dict(\n",
    "        title='Percent',\n",
    "        autorange=True\n",
    "    ))\n",
    "    \n",
    "fig = go.Figure(data=data, layout=layout)\n",
    "    \n",
    "py.iplot(fig,filename='success_sliders') "
   ]
  },
  {
   "cell_type": "code",
   "execution_count": 225,
   "metadata": {
    "collapsed": false
   },
   "outputs": [
    {
     "data": {
      "text/html": [
       "<iframe id=\"igraph\" scrolling=\"no\" style=\"border:none;\" seamless=\"seamless\" src=\"https://plot.ly/~zacbullard/29.embed\" height=\"525px\" width=\"100%\"></iframe>"
      ],
      "text/plain": [
       "<plotly.tools.PlotlyDisplay object>"
      ]
     },
     "execution_count": 225,
     "metadata": {},
     "output_type": "execute_result"
    }
   ],
   "source": [
    "import plotly.plotly as py\n",
    "import numpy as np\n",
    "\n",
    "data = [dict(\n",
    "        visible = False,\n",
    "        line=dict(color='00CED1', width=6),\n",
    "        name = '𝜈 = '+str(step),\n",
    "        x = np.arange(0,10,0.01),\n",
    "        y = np.sin(step*np.arange(0,10,0.01))) for step in np.arange(0,5,0.1)]\n",
    "data[10]['visible'] = True\n",
    "\n",
    "steps = []\n",
    "for i in range(len(data)):\n",
    "    step = dict(\n",
    "        method = 'restyle',\n",
    "        args = ['visible', [False] * len(data)],\n",
    "    )\n",
    "    step['args'][1][i] = True # Toggle i'th trace to \"visible\"\n",
    "    steps.append(step)\n",
    "\n",
    "sliders = [dict(\n",
    "    active = 10,\n",
    "    currentvalue = {\"prefix\": \"Frequency: \"},\n",
    "    pad = {\"t\": 50},\n",
    "    steps = steps\n",
    ")]\n",
    "\n",
    "layout = dict(sliders=sliders)\n",
    "\n",
    "fig = dict(data=data, layout=layout)\n",
    "\n",
    "py.iplot(fig, filename='Sine Wave Slider')"
   ]
  },
  {
   "cell_type": "code",
   "execution_count": 300,
   "metadata": {
    "collapsed": false
   },
   "outputs": [
    {
     "data": {
      "text/plain": [
       "172891"
      ]
     },
     "execution_count": 300,
     "metadata": {},
     "output_type": "execute_result"
    }
   ],
   "source": []
  },
  {
   "cell_type": "code",
   "execution_count": 316,
   "metadata": {
    "collapsed": false
   },
   "outputs": [
    {
     "name": "stderr",
     "output_type": "stream",
     "text": [
      "/home/z/anaconda3/lib/python3.5/site-packages/ipykernel/__main__.py:2: SettingWithCopyWarning:\n",
      "\n",
      "\n",
      "A value is trying to be set on a copy of a slice from a DataFrame.\n",
      "Try using .loc[row_indexer,col_indexer] = value instead\n",
      "\n",
      "See the caveats in the documentation: http://pandas.pydata.org/pandas-docs/stable/indexing.html#indexing-view-versus-copy\n",
      "\n",
      "/home/z/anaconda3/lib/python3.5/site-packages/plotly/plotly/plotly.py:215: UserWarning:\n",
      "\n",
      "Woah there! Look at all those points! Due to browser limitations, the Plotly SVG drawing functions have a hard time graphing more than 500k data points for line charts, or 40k points for other types of charts. Here are some suggestions:\n",
      "(1) Use the `plotly.graph_objs.Scattergl` trace object to generate a WebGl graph.\n",
      "(2) Trying using the image API to return an image instead of a graph URL\n",
      "(3) Use matplotlib\n",
      "(4) See if you can create your visualization with fewer data points\n",
      "\n",
      "If the visualization you're using aggregates points (e.g., box plot, histogram, etc.) you can disregard this warning.\n",
      "\n"
     ]
    },
    {
     "name": "stdout",
     "output_type": "stream",
     "text": [
      "SUCCESS RATE 0.47448998998364417\n",
      "Out of total # of projects: (172891, 33)\n"
     ]
    },
    {
     "data": {
      "text/html": [
       "<iframe id=\"igraph\" scrolling=\"no\" style=\"border:none;\" seamless=\"seamless\" src=\"https://plot.ly/~PhDashing/6.embed\" height=\"525px\" width=\"100%\"></iframe>"
      ],
      "text/plain": [
       "<plotly.tools.PlotlyDisplay object>"
      ]
     },
     "execution_count": 316,
     "metadata": {},
     "output_type": "execute_result"
    }
   ],
   "source": [
    "dfh = df\n",
    "dfh['duration'] = (dfh.deadline - dfh.launched_at)/60/60/24\n",
    "\n",
    "dfs = dfh[dfh.state=='successful']\n",
    "dff = dfh[dfh.state=='failed']\n",
    "\n",
    "print(\"SUCCESS RATE\",float(len(dfs))/(len(dfs)+len(dff)))\n",
    "print(\"Out of total # of projects:\",df.shape)\n",
    "\n",
    "\n",
    "#dfm = pd.concat([dfs.duration,dff.duration],axis=1)\n",
    "#dfs.duration.iplot(kind='histogram',filename = \"success_histogram\")\n",
    "\n",
    "bins = list(range(0,104,4))\n",
    "bins_mid = []\n",
    "for i in range(len(bins)-1):\n",
    "    bins_mid.append(int((bins[i]+bins[i+1])/2))\n",
    "\n",
    "out = pd.cut(dfs['duration'],bins)\n",
    "filled_bins = pd.value_counts(out)\n",
    "filled_bins = filled_bins.reindex(out.cat.categories).tolist()\n",
    "#bin_labels = \n",
    "#print (len(filled_bins),len(bins_mid))\n",
    "#print(filled_bins)\n",
    "#print(filled_bins,bins_mid)\n",
    "\n",
    "\n",
    "data = [{\n",
    "    'x':dfs.duration,\n",
    "    #'y':bins_mid,\n",
    "    'opacity':0.75,\n",
    "    'name':'successful' ,\n",
    "    'type':'histogram',\n",
    "    'visible':False,\n",
    "    },\n",
    "    {\n",
    "    'x':dff.duration,\n",
    "    #'y':bins_mid,\n",
    "    'opacity':0.75,\n",
    "    'name':'failed' ,\n",
    "    'type':'histogram',\n",
    "    'visible':False,\n",
    "    } \n",
    "       ]\n",
    "\n",
    "steps = [\n",
    "    dict(\n",
    "    method = 'restyle',\n",
    "    args = ['visible', [True,True]],\n",
    "    ),\n",
    "    dict(\n",
    "    method = 'restyle',\n",
    "    args = ['visible', [False,True]],\n",
    "    ),\n",
    "    dict(\n",
    "    method = 'restyle',\n",
    "    args = ['visible', [True,False]],\n",
    "    )\n",
    "    ]\n",
    "  \n",
    "#layout = go.Layout(\n",
    "#    title='Kickstarter Duration and Sucess',\n",
    "#    barmode='overlay',\n",
    "#    xaxis=dict(\n",
    "#        title='Campaign Duration (Days)',\n",
    "#        autorange=True\n",
    "#    ),\n",
    "#    yaxis=dict(\n",
    "#        title='Count',\n",
    "#        autorange=True\n",
    "#    ))\n",
    "\n",
    "sliders = [dict(\n",
    "    active = 0,\n",
    "    currentvalue = {\"prefix\": \" \"},\n",
    "    pad = {\"t\": 50},\n",
    "    steps = steps,\n",
    "    )]\n",
    "\n",
    "layout = dict(sliders=sliders)\n",
    "    \n",
    "fig = go.Figure(data=data, layout=layout)\n",
    "\n",
    "#figure.update(dict(data=dict(line=dict(color='00CED1', width=6))))\n",
    "fig.update(dict(layout=dict(title='Kickstarter Duration and Sucess',\n",
    "    barmode='overlay',\n",
    "    showlegend=True,\n",
    "    xaxis=dict(\n",
    "        title='Campaign Duration (Days)',\n",
    "        autorange=True\n",
    "    ),\n",
    "    yaxis=dict(\n",
    "        title='Count',\n",
    "        autorange=True\n",
    "        ))))\n",
    "    \n",
    "py.iplot(fig,filename='success_histogram_switch') "
   ]
  },
  {
   "cell_type": "code",
   "execution_count": null,
   "metadata": {
    "collapsed": true
   },
   "outputs": [],
   "source": []
  }
 ],
 "metadata": {
  "kernelspec": {
   "display_name": "Python [default]",
   "language": "python",
   "name": "python3"
  },
  "language_info": {
   "codemirror_mode": {
    "name": "ipython",
    "version": 3
   },
   "file_extension": ".py",
   "mimetype": "text/x-python",
   "name": "python",
   "nbconvert_exporter": "python",
   "pygments_lexer": "ipython3",
   "version": "3.5.2"
  }
 },
 "nbformat": 4,
 "nbformat_minor": 1
}
